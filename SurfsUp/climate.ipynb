{
 "cells": [
  {
   "cell_type": "code",
   "execution_count": 1,
   "id": "f098fc6d",
   "metadata": {},
   "outputs": [],
   "source": [
    "%matplotlib inline\n",
    "from matplotlib import style\n",
    "style.use('fivethirtyeight')\n",
    "import matplotlib.pyplot as plt\n",
    "import numpy as np\n",
    "import pandas as pd\n",
    "import datetime as dt"
   ]
  },
  {
   "cell_type": "code",
   "execution_count": 19,
   "id": "a2097258",
   "metadata": {},
   "outputs": [],
   "source": [
    "# Python SQL toolkit and Object Relational Mapper\n",
    "import sqlalchemy\n",
    "from sqlalchemy.ext.automap import automap_base\n",
    "from sqlalchemy.orm import Session\n",
    "from sqlalchemy import create_engine, func, desc"
   ]
  },
  {
   "cell_type": "code",
   "execution_count": 47,
   "id": "671abd05",
   "metadata": {},
   "outputs": [],
   "source": [
    "# create engine to hawaii.sqlite\n",
    "engine = create_engine(\"sqlite:///Resources/hawaii.sqlite\")\n",
    "conn = engine.connect()"
   ]
  },
  {
   "cell_type": "code",
   "execution_count": 7,
   "id": "07fdf12e",
   "metadata": {},
   "outputs": [],
   "source": [
    "# reflect an existing database into a new model\n",
    "Base = automap_base()\n",
    "Base.prepare(engine, reflect=True)"
   ]
  },
  {
   "cell_type": "code",
   "execution_count": 11,
   "id": "7bd81580",
   "metadata": {},
   "outputs": [
    {
     "name": "stdout",
     "output_type": "stream",
     "text": [
      "['measurement', 'station']\n"
     ]
    }
   ],
   "source": [
    "# View all of the classes that automap found\n",
    "print(Base.classes.keys())"
   ]
  },
  {
   "cell_type": "code",
   "execution_count": null,
   "id": "85aae965",
   "metadata": {},
   "outputs": [],
   "source": [
    "# reflect the tables\n",
    "Measurement = Base.classes.measurement\n",
    "Station = Base.classes.station"
   ]
  },
  {
   "cell_type": "code",
   "execution_count": 10,
   "id": "dca59ac6",
   "metadata": {},
   "outputs": [],
   "source": [
    "session = Session(engine)"
   ]
  },
  {
   "cell_type": "code",
   "execution_count": null,
   "id": "ad3f2df0",
   "metadata": {},
   "outputs": [],
   "source": [
    "# Precipitation Analysis"
   ]
  },
  {
   "cell_type": "code",
   "execution_count": 52,
   "id": "436f239c",
   "metadata": {},
   "outputs": [
    {
     "name": "stdout",
     "output_type": "stream",
     "text": [
      "2017-08-23\n",
      "2016-08-23\n"
     ]
    }
   ],
   "source": [
    "# Find the most recent date in the data set.\n",
    "first_date = session.query(Measurement).\\\n",
    "    order_by(desc(Measurement.date)).\\\n",
    "    first().date\n",
    "print(measurement_results)\n"
   ]
  },
  {
   "cell_type": "code",
   "execution_count": 109,
   "id": "46fb385f",
   "metadata": {},
   "outputs": [
    {
     "name": "stdout",
     "output_type": "stream",
     "text": [
      "              prcp\n",
      "count  2021.000000\n",
      "mean      4.505888\n",
      "std      11.713487\n",
      "min       0.000000\n",
      "25%       0.000000\n",
      "50%       0.500000\n",
      "75%       3.300000\n",
      "max     170.200000\n",
      "{'session': <sqlalchemy.orm.session.Session object at 0x000001FB38D85688>, '_polymorphic_adapters': {}, '_entities': [<sqlalchemy.orm.query._ColumnEntity object at 0x000001FB3A78F708>, <sqlalchemy.orm.query._ColumnEntity object at 0x000001FB3A78F688>], '_primary_entity': None, '_has_mapper_entities': False, '_mapper_adapter_map': {<class 'sqlalchemy.ext.automap.measurement'>: (<Mapper at 0x1fb38c50888; measurement>, None), <Mapper at 0x1fb38c50888; measurement>: (<Mapper at 0x1fb38c50888; measurement>, None)}, '_criterion': <sqlalchemy.sql.elements.BinaryExpression object at 0x000001FB3A78FF88>, 'dispatch': <sqlalchemy.event.base.QueryEventsDispatch object at 0x000001FB38E6C708>}\n"
     ]
    },
    {
     "data": {
      "image/png": "[encoded data removed]",
      "text/plain": [
       "<Figure size 432x288 with 1 Axes>"
      ]
     },
     "metadata": {},
     "output_type": "display_data"
    }
   ],
   "source": [
    "# Design a query to retrieve the last 12 months of precipitation data and plot the results. \n",
    "# Starting from the most recent data point in the database. \n",
    "\n",
    "# Calculate the date one year from the last date in data set.\n",
    "startDate = (dt.datetime.strptime(first_date,\"%Y-%m-%d\") - dt.timedelta(days=365)).strftime(\"%Y-%m-%d\")\n",
    "\n",
    "# Perform a query to retrieve the data and precipitation scores\n",
    "scores = session.query(Measurement).\\\n",
    "    filter(Measurement.date >= '2016-08-23').\\\n",
    "    with_entities(Measurement.date,Measurement.prcp)\n",
    "\n",
    "\n",
    "# Save the query results as a Pandas DataFrame and set the index to the date column\n",
    "results = pd.read_sql(scores.statement,conn,parse_dates=[\"date\"])\n",
    "results = results.set_index(\"date\")\n",
    "# Sort the dataframe by date\n",
    "results = results.sort_index()\n",
    "\n",
    "# Use Pandas Plotting with Matplotlib to plot the data\n",
    "plt = results.plot()\n",
    "print(results.describe())"
   ]
  },
  {
   "cell_type": "code",
   "execution_count": 83,
   "id": "2150a0c5",
   "metadata": {},
   "outputs": [
    {
     "name": "stdout",
     "output_type": "stream",
     "text": [
      "9\n"
     ]
    }
   ],
   "source": [
    "stations_cnt = session.query(Station).count()\n",
    "print(stations_cnt)"
   ]
  },
  {
   "cell_type": "code",
   "execution_count": 94,
   "id": "458aa729",
   "metadata": {},
   "outputs": [
    {
     "name": "stdout",
     "output_type": "stream",
     "text": [
      "('USC00519281', 2772)\n",
      "('USC00519397', 2724)\n",
      "('USC00513117', 2709)\n",
      "('USC00519523', 2669)\n",
      "('USC00516128', 2612)\n",
      "('USC00514830', 2202)\n",
      "('USC00511918', 1979)\n",
      "('USC00517948', 1372)\n",
      "('USC00518838', 511)\n"
     ]
    }
   ],
   "source": [
    "#Finding Station Activity\n",
    "station_activity = session.query(Measurement.station,func.count(Measurement.station)).group_by(Measurement.station).order_by(desc(func.count(Measurement.station)))\n",
    "for row in station_activity:\n",
    "    print(row)\n",
    "    \n",
    "most_active_id = station_activity.first()[0]"
   ]
  },
  {
   "cell_type": "code",
   "execution_count": 101,
   "id": "be07ec9a",
   "metadata": {},
   "outputs": [
    {
     "name": "stdout",
     "output_type": "stream",
     "text": [
      "(12.2, 22.03582251082252, 29.4)\n"
     ]
    }
   ],
   "source": [
    "#Min / Average / Max For Most Active station\n",
    "temps = session.query(func.min(Measurement.tobs),func.avg(Measurement.tobs),func.max(Measurement.tobs)).\\\n",
    "    filter(Measurement.station == most_active_id)\n",
    "print(temps.first())"
   ]
  },
  {
   "cell_type": "code",
   "execution_count": 107,
   "id": "53eb8689",
   "metadata": {},
   "outputs": [
    {
     "data": {
      "image/png": "[encoded data removed]",
      "text/plain": [
       "<Figure size 432x288 with 1 Axes>"
      ]
     },
     "metadata": {},
     "output_type": "display_data"
    }
   ],
   "source": [
    "year_temps = session.query(Measurement).\\\n",
    "    filter(Measurement.station == most_active_id).\\\n",
    "    filter(Measurement.date >= '2016-08-23').\\\n",
    "    with_entities(Measurement.tobs)\n",
    "\n",
    "year_temps_df = pd.read_sql(year_temps.statement,conn).plot.hist(bins = 12)"
   ]
  },
  {
   "cell_type": "code",
   "execution_count": null,
   "id": "44c7d5dc",
   "metadata": {},
   "outputs": [],
   "source": []
  },
  {
   "cell_type": "code",
   "execution_count": 108,
   "id": "a6d2fee1",
   "metadata": {},
   "outputs": [],
   "source": [
    "session.close()"
   ]
  }
 ],
 "metadata": {
  "kernelspec": {
   "display_name": "Python (PythonData)",
   "language": "python",
   "name": "myenv"
  },
  "language_info": {
   "codemirror_mode": {
    "name": "ipython",
    "version": 3
   },
   "file_extension": ".py",
   "mimetype": "text/x-python",
   "name": "python",
   "nbconvert_exporter": "python",
   "pygments_lexer": "ipython3",
   "version": "3.7.7"
  }
 },
 "nbformat": 4,
 "nbformat_minor": 5
}
